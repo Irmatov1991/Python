{
 "cells": [
  {
   "cell_type": "code",
   "execution_count": 25,
   "id": "76731d9e",
   "metadata": {},
   "outputs": [
    {
     "name": "stdout",
     "output_type": "stream",
     "text": [
      "Perimetr: 20\n",
      "Area: 25\n"
     ]
    }
   ],
   "source": [
    "a = 5\n",
    "perimetr=4*a\n",
    "area=a*a\n",
    "print(\"Perimetr:\", perimetr)\n",
    "print(\"Area:\", area)"
   ]
  },
  {
   "cell_type": "code",
   "execution_count": 26,
   "id": "034965f1",
   "metadata": {},
   "outputs": [
    {
     "name": "stdout",
     "output_type": "stream",
     "text": [
      "Length of the circle: 31.41592653589793\n"
     ]
    }
   ],
   "source": [
    "import math\n",
    "diameter = 10\n",
    "length = math.pi * diameter\n",
    "print(\"Length of the circle:\", length)"
   ]
  },
  {
   "cell_type": "code",
   "execution_count": null,
   "id": "ee61ffb9",
   "metadata": {},
   "outputs": [],
   "source": []
  },
  {
   "cell_type": "code",
   "execution_count": 27,
   "id": "87830590",
   "metadata": {},
   "outputs": [
    {
     "name": "stdout",
     "output_type": "stream",
     "text": [
      "mean 160.0\n"
     ]
    }
   ],
   "source": [
    "a =20\n",
    "b =300\n",
    "mean = (a + b) / 2\n",
    "print(\"mean\", mean)"
   ]
  },
  {
   "cell_type": "code",
   "execution_count": 28,
   "id": "b5d8952c",
   "metadata": {},
   "outputs": [
    {
     "name": "stdout",
     "output_type": "stream",
     "text": [
      "sum 14\n",
      "product 48\n",
      "square_a 64\n",
      "square_b 36\n"
     ]
    }
   ],
   "source": [
    "a =8\n",
    "b =6\n",
    "sum = a +b\n",
    "product = a*b\n",
    "square_a = a ** 2\n",
    "square_b = b ** 2\n",
    "print('sum',sum)\n",
    "print ('product',product)\n",
    "print('square_a', square_a)\n",
    "print('square_b', square_b)\n"
   ]
  }
 ],
 "metadata": {
  "kernelspec": {
   "display_name": ".venv",
   "language": "python",
   "name": "python3"
  },
  "language_info": {
   "codemirror_mode": {
    "name": "ipython",
    "version": 3
   },
   "file_extension": ".py",
   "mimetype": "text/x-python",
   "name": "python",
   "nbconvert_exporter": "python",
   "pygments_lexer": "ipython3",
   "version": "3.12.10"
  }
 },
 "nbformat": 4,
 "nbformat_minor": 5
}
